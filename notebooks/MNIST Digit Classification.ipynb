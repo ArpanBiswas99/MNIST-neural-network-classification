{
 "cells": [
  {
   "cell_type": "markdown",
   "metadata": {
    "id": "jZn9pvNEv8AR"
   },
   "source": [
    "# MNIST Digit Classification using Fully Connected Network and Convolutional Neural Network\n",
    "\n",
    "This repository contains a PyTorch implementation of image classification using the MNIST dataset. It includes both a fully connected neural network (FCN) and a convolutional neural network (CNN) for the task of digit recognition."
   ]
  },
  {
   "cell_type": "markdown",
   "metadata": {
    "id": "d85PhBYnSpS3"
   },
   "source": [
    "## Setup\n",
    "\n",
    "The MNIST dataset consists of 28x28 grayscale images of handwritten digits (0-9) and is commonly used for machine learning experiments. It is divided into a training set and a test set, both of which are used for training and evaluating the models."
   ]
  },
  {
   "cell_type": "code",
   "execution_count": null,
   "metadata": {
    "id": "V8ljAH_GwFeU"
   },
   "outputs": [],
   "source": [
    "import random\n",
    "from base64 import b64decode as dec\n",
    "\n",
    "import numpy as np\n",
    "import torch\n",
    "import torch.nn as nn\n",
    "from torchvision import datasets, transforms\n",
    "import matplotlib.pyplot as plt\n",
    "\n",
    "# ### Include HERE any additionally needed libary\n",
    "from torch.utils.data import DataLoader\n",
    "from sklearn.metrics import confusion_matrix\n",
    "import seaborn as sns"
   ]
  },
  {
   "cell_type": "code",
   "execution_count": null,
   "metadata": {
    "id": "KK_3zo8WSs8_"
   },
   "outputs": [],
   "source": [
    "# ### Load the mnist dataset\n",
    "#train_dataset = datasets.MNIST('../data', train=True, download=True, transform=transforms.ToTensor())\n",
    "#test_dataset = datasets.MNIST('../data', train=False, transform=transforms.ToTensor())\n",
    "train_dataset = datasets.MNIST(root='data', train=True, download=True, transform=transforms.ToTensor())\n",
    "test_dataset = datasets.MNIST(root='data', train=False, transform=transforms.ToTensor())"
   ]
  },
  {
   "cell_type": "code",
   "execution_count": null,
   "metadata": {
    "colab": {
     "base_uri": "https://localhost:8080/"
    },
    "id": "xXLJlHPQze_Z",
    "outputId": "7ed59c39-3592-4f21-fffd-1980eb69d33b"
   },
   "outputs": [
    {
     "name": "stdout",
     "output_type": "stream",
     "text": [
      "Train: 60000\n",
      "Test: 10000\n"
     ]
    }
   ],
   "source": [
    "print('Train:', len(train_dataset))\n",
    "print('Test:',len(test_dataset))"
   ]
  },
  {
   "cell_type": "code",
   "execution_count": null,
   "metadata": {
    "colab": {
     "base_uri": "https://localhost:8080/"
    },
    "id": "qGdC9ns_zU3U",
    "outputId": "3931b3c9-2f2f-4a00-8f74-a05bc20749d0"
   },
   "outputs": [
    {
     "name": "stdout",
     "output_type": "stream",
     "text": [
      "Shape of the first image: torch.Size([1, 28, 28])\n",
      "Label of the first image: 5\n"
     ]
    }
   ],
   "source": [
    "# Print the shape of the first image of the train_dataset, and it's label\n",
    "first_image, first_label = train_dataset[0]\n",
    "print(\"Shape of the first image:\", first_image.shape)\n",
    "print(\"Label of the first image:\", first_label)"
   ]
  },
  {
   "cell_type": "code",
   "execution_count": null,
   "metadata": {
    "colab": {
     "base_uri": "https://localhost:8080/",
     "height": 447
    },
    "id": "V4x0A7LHS_kP",
    "outputId": "849bb0a8-e881-4874-efdd-d24cabd08c06"
   },
   "outputs": [
    {
     "name": "stdout",
     "output_type": "stream",
     "text": [
      "1\n"
     ]
    },
    {
     "data": {
      "image/png": "[encoded data removed]",
      "text/plain": [
       "<Figure size 640x480 with 1 Axes>"
      ]
     },
     "metadata": {},
     "output_type": "display_data"
    }
   ],
   "source": [
    "# ### Visualize a random sample\n",
    "x, y = train_dataset[random.randint(0, len(train_dataset))]\n",
    "plt.imshow(np.squeeze(x), cmap='gray')\n",
    "print(y)"
   ]
  },
  {
   "cell_type": "markdown",
   "metadata": {
    "id": "CQyV2lvyW-g-"
   },
   "source": [
    "# Models"
   ]
  },
  {
   "cell_type": "markdown",
   "metadata": {
    "id": "I1IORRi2cavn"
   },
   "source": [
    "## Hyperparameters"
   ]
  },
  {
   "cell_type": "code",
   "execution_count": null,
   "metadata": {
    "colab": {
     "base_uri": "https://localhost:8080/"
    },
    "id": "QUCWDWi-Ya1_",
    "outputId": "193103db-d822-4ca7-ca09-752f45a7e828"
   },
   "outputs": [
    {
     "name": "stdout",
     "output_type": "stream",
     "text": [
      "cuda:0\n",
      "Is CUDA supported by this system? True\n",
      "CUDA version: 12.1\n",
      "ID of current CUDA device:0\n",
      "Name of current CUDA device:NVIDIA GeForce 940MX\n"
     ]
    }
   ],
   "source": [
    "DEVICE = 'cuda:0' if torch.cuda.is_available() else 'cpu'\n",
    "print(DEVICE)\n",
    "print(f\"Is CUDA supported by this system? {torch.cuda.is_available()}\")\n",
    "print(f\"CUDA version: {torch.version.cuda}\")\n",
    "cuda_id = torch.cuda.current_device()\n",
    "print(f\"ID of current CUDA device:{torch.cuda.current_device()}\")\n",
    "\n",
    "print(f\"Name of current CUDA device:{torch.cuda.get_device_name(cuda_id)}\")\n",
    "# ### Alter hyperparameters so that they suite the problem the best\n",
    "BATCH_SIZE = 64\n",
    "LR = 1e-3\n",
    "EPOCHS = 20"
   ]
  },
  {
   "cell_type": "markdown",
   "metadata": {
    "id": "y57Vo0vncdYt"
   },
   "source": [
    "## Fully Connected Model\n",
    "\n",
    "The FCN consists of fully connected layers with dropout for regularization. You can customize the architecture by adjusting the number of layers and neurons per layer."
   ]
  },
  {
   "cell_type": "code",
   "execution_count": null,
   "metadata": {
    "colab": {
     "base_uri": "https://localhost:8080/"
    },
    "id": "q7HPXAW3XAmG",
    "outputId": "f408124e-0ba9-43fe-b218-a38394977af9"
   },
   "outputs": [
    {
     "data": {
      "text/plain": [
       "'\\n4 layers without dropout, CrossEntropy, ADAM - Loss: 0.49702330082654955, Accuracy: 83.60%, BATCH_SIZE = 256, LR = 0.025, EPOCHS = 50\\n\\n4 layers with dropout 0.25, CrossEntropy, ADAM - Loss: 0.30366133227944375, Accuracy: 93.51%, BATCH_SIZE = 256, LR = 0.025, EPOCHS = 50\\n\\n4 layers without dropout, NLLEntropy, SGD - Loss: 0.09716107309795916, Accuracy: 97.30%, BATCH_SIZE = 256, LR = 0.025, EPOCHS = 50\\n\\n4 layers with dropout 0.25, NLLEntropy, SGD - train loss: 9.49070326237282e-06, test loss: 0.08662979249085395, Accuracy: 98.16%, BATCH_SIZE = 256, LR = 0.025, EPOCHS = 50\\n\\n4 layers with dropout 0.3, NLLEntropy, SGD - train loss: 8.887386144097171e-05, test loss: 0.076891, Accuracy: 98.48%, BATCH_SIZE = 256, LR = 0.025, EPOCHS = 50\\n'"
      ]
     },
     "execution_count": 67,
     "metadata": {},
     "output_type": "execute_result"
    }
   ],
   "source": [
    "class MyModel(nn.Module):\n",
    "    def __init__(self, input_size, layer_size1, layer_size2, layer_size3, layer_size4, dropout=0.3):\n",
    "        super(MyModel, self).__init__()\n",
    "        self.model = nn.Sequential(\n",
    "            nn.Flatten(),\n",
    "            nn.Linear(input_size, layer_size1),\n",
    "            nn.ReLU(),\n",
    "            nn.Dropout(dropout),\n",
    "            nn.Linear(layer_size1, layer_size2),\n",
    "            nn.ReLU(),\n",
    "            nn.Dropout(dropout),\n",
    "            nn.Linear(layer_size2, layer_size3),\n",
    "            nn.ReLU(),\n",
    "            nn.Dropout(dropout),\n",
    "            nn.Linear(layer_size3, layer_size4),\n",
    "            nn.ReLU(),\n",
    "            nn.Linear(layer_size4, 10),\n",
    "            nn.LogSoftmax(dim=1)\n",
    "        )\n",
    "\n",
    "    def forward(self, x):\n",
    "        return self.model(x)\n",
    "\n",
    "\"\"\"\n",
    "4 layers without dropout, CrossEntropy, ADAM - Loss: 0.49702330082654955, Accuracy: 83.60%, BATCH_SIZE = 256, LR = 0.025, EPOCHS = 50\n",
    "\n",
    "4 layers with dropout 0.25, CrossEntropy, ADAM - Loss: 0.30366133227944375, Accuracy: 93.51%, BATCH_SIZE = 256, LR = 0.025, EPOCHS = 50\n",
    "\n",
    "4 layers without dropout, NLLEntropy, SGD - Loss: 0.09716107309795916, Accuracy: 97.30%, BATCH_SIZE = 256, LR = 0.025, EPOCHS = 50\n",
    "\n",
    "4 layers with dropout 0.25, NLLEntropy, SGD - train loss: 9.49070326237282e-06, test loss: 0.08662979249085395, Accuracy: 98.16%, BATCH_SIZE = 256, LR = 0.025, EPOCHS = 50\n",
    "\n",
    "4 layers with dropout 0.3, NLLEntropy, SGD - train loss: 8.887386144097171e-05, test loss: 0.076891, Accuracy: 98.48%, BATCH_SIZE = 256, LR = 0.025, EPOCHS = 50\n",
    "\"\"\""
   ]
  },
  {
   "cell_type": "markdown",
   "metadata": {
    "id": "Dg8lD7Ogcp80"
   },
   "source": [
    "## Convolutional Model"
   ]
  },
  {
   "cell_type": "code",
   "execution_count": null,
   "metadata": {
    "colab": {
     "base_uri": "https://localhost:8080/"
    },
    "id": "Yziopv1Ucr28",
    "outputId": "66959055-9064-4808-81ad-03b10f5ec0c7"
   },
   "outputs": [
    {
     "data": {
      "text/plain": [
       "'\\n2 Convolational layers (256 -> 512) and 1 linear layer with dropout NLL, and SGD = train loss: 0.0001068090742572825, test Loss: 0.028232653439044953, Accuracy: 99.03%, BATCH_SIZE = 256, LR = 0.025, EPOCHS = 50\\n\\n2 Convolational layers (32 -> 64) and 1 linear layer Cross Entropy, and Adam = train loss: 3.0598625528818763e-07, test Loss: 0.04190599122453387, Accuracy: 99.20%, BATCH_SIZE = 64, LR = 1e-3, EPOCHS = 20\\n\\n'"
      ]
     },
     "execution_count": 93,
     "metadata": {},
     "output_type": "execute_result"
    }
   ],
   "source": [
    "#✔️ TODO: customize the MyCNNModel class to be able to tweak number of layers/neurons\n",
    "#       per layer & regularization so that you can test multiple hypotheses.\n",
    "#\n",
    "#       The final network should contain at least 2 convolutional layers, one\n",
    "#       linear layer. Use activation functions after every convolutional layer.\n",
    "#       Hint: start simple, and incrementally add complexity. Keep track of your\n",
    "#       iterations by utilizing comments.\n",
    "\n",
    "class MyCNNModel(nn.Module):\n",
    "    def __init__(self):\n",
    "        super(MyCNNModel, self).__init__()\n",
    "\n",
    "        self.model = nn.Sequential(\n",
    "            nn.Conv2d(1, 32, kernel_size = 5), #24x24\n",
    "            nn.ReLU(),\n",
    "            nn.MaxPool2d(kernel_size = 2), #12x12\n",
    "            nn.Conv2d(32, 64, kernel_size = 5), #8x8\n",
    "            nn.ReLU(),\n",
    "            nn.MaxPool2d(kernel_size = 2), #4x4\n",
    "            nn.Flatten(),\n",
    "            nn.Linear(64* 4* 4, 10)\n",
    "            )\n",
    "\n",
    "    def forward(self, x):\n",
    "        return self.model(x)\n",
    "\n",
    "\"\"\"\n",
    "2 Convolational layers (256 -> 512) and 1 linear layer with dropout NLL, and SGD = train loss: 0.0001068090742572825, test Loss: 0.028232653439044953, Accuracy: 99.03%, BATCH_SIZE = 256, LR = 0.025, EPOCHS = 50\n",
    "\n",
    "2 Convolational layers (32 -> 64) and 1 linear layer Cross Entropy, and Adam = train loss: 3.0598625528818763e-07, test Loss: 0.04190599122453387, Accuracy: 99.34%, BATCH_SIZE = 64, LR = 1e-3, EPOCHS = 20\n",
    "\n",
    "\"\"\""
   ]
  },
  {
   "cell_type": "code",
   "execution_count": null,
   "metadata": {
    "id": "qX70okavnwMZ"
   },
   "outputs": [],
   "source": [
    "# Based on LeCun, Yann, et al. \"Gradient-based learning applied to document recognition.\" Proceedings of the IEEE 86.11 (1998): 2278-2324.\n",
    "\n",
    "class LeNet5(nn.Module):\n",
    "    def __init__(self):\n",
    "        super(LeNet5, self).__init__()\n",
    "        self.model = nn.Sequential(\n",
    "            nn.Conv2d(1, 6, kernel_size=5, stride=1, padding=2), # 28*28->32*32-->28*28\n",
    "            nn.Tanh(),\n",
    "            nn.AvgPool2d(kernel_size=2, stride=2), # 14*14\n",
    "\n",
    "            nn.Conv2d(6, 16, kernel_size=5, stride=1), # 10*10\n",
    "            nn.Tanh(),\n",
    "            nn.AvgPool2d(kernel_size=2, stride=2),  # 5*5\n",
    "\n",
    "            nn.Flatten(),\n",
    "            nn.Linear(in_features=16*5*5, out_features=120),\n",
    "            nn.Tanh(),\n",
    "            nn.Linear(in_features=120, out_features=84),\n",
    "            nn.Tanh(),\n",
    "            nn.Linear(in_features=84, out_features=10),\n",
    "        )\n",
    "\n",
    "    def forward(self, x):\n",
    "        return self.model(x)"
   ]
  },
  {
   "cell_type": "markdown",
   "metadata": {
    "id": "dFuHi5wmcftW"
   },
   "source": [
    "## Train & Evaluation"
   ]
  },
  {
   "cell_type": "code",
   "execution_count": null,
   "metadata": {
    "id": "a7-oAh3RYWE-"
   },
   "outputs": [],
   "source": [
    "def train(model, crit, opt, epochs, train_loader) -> None:\n",
    "    print(\"# ### TRAIN\")\n",
    "    \"\"\"function to perform the training process, using the defined model, criterion\n",
    "    and optimizer objects. Prints train loss evolution at specific epoch increments\n",
    "    and plots at the end of the loss throughout every epoch\n",
    "\n",
    "    :param model: ML model instance extending nn.Module class\n",
    "    :param crit: criterion, nn.*Loss() instance\n",
    "    :param opt: optimizer, nn.optim.* instance\n",
    "    :param train_loader: torch DataLoader instance containing training samples\n",
    "    :return: None\"\"\"\n",
    "    train_losses = []\n",
    "\n",
    "    model.to('cuda:0')\n",
    "    #✔️ TODO: prep model for training\n",
    "    model.train()\n",
    "\n",
    "    for epoch in range(epochs):\n",
    "        losses = 0\n",
    "        for images, labels in train_loader:\n",
    "            opt.zero_grad()\n",
    "            y_hat = model(images.to('cuda:0'))\n",
    "            loss = crit(y_hat, labels.to('cuda:0'))\n",
    "\n",
    "            #✔️ TODO: make the necessary update for the loss and optimizer\n",
    "            loss.backward() # the model learns by backpropagating by calculating gradients\n",
    "            opt.step() # And optimizes its weights here and update parameter after every iteration (gradient descent step)\n",
    "            losses += loss.item()\n",
    "\n",
    "        train_loss = losses / len(train_loader)\n",
    "        train_losses.append(train_loss)\n",
    "        if epoch != 0:\n",
    "            print('Epoch: [{}/{}] - train loss: {}'.format(epoch, epochs, train_loss))\n",
    "\n",
    "    # plot the process of training, visualizing losses\n",
    "    plt.plot(range(0, len(train_losses)), train_losses)\n",
    "    plt.show()\n",
    "\n",
    "    avg_train_loss = losses / len(train_loader)\n",
    "    return avg_train_loss"
   ]
  },
  {
   "cell_type": "code",
   "execution_count": null,
   "metadata": {
    "id": "g3I1NdbbbtDz"
   },
   "outputs": [],
   "source": [
    "def test(model, crit, test_loader) -> None:\n",
    "    print(\"# ### TEST\")\n",
    "    \"\"\"function to perform the evaluation process, using the defined model and\n",
    "    criterion. Prints test loss, overall accuracy and class-wise accuracy for\n",
    "    samples of the test dataset.\n",
    "\n",
    "    :param model: ML model instance extending nn.Module class\n",
    "    :param crit: criterion, nn.*Loss() instance\n",
    "    :param test_loader: torch DataLoader instance containing testing samples\n",
    "    :return: None\"\"\"\n",
    "    test_loss = 0\n",
    "\n",
    "    # dictionaries used to evaluate for each class the accuracy of the model\n",
    "    total_predictions = [0 for i in range(0, 10)]\n",
    "    correct_predictions = [0 for i in range(0, 10)]\n",
    "\n",
    "    total_preds = []\n",
    "    total_labels = []\n",
    "\n",
    "    model.to('cpu')\n",
    "    #✔️ TODO: prep model for evaluation\n",
    "    model.eval()\n",
    "\n",
    "    for images, labels in test_loader:\n",
    "        y_hat = model(images) #\n",
    "        _, pred = torch.max(y_hat, 1)  #✔️ TODO why is this needed here? - Stores the indices of maximum value\n",
    "        loss = criterion(y_hat, labels)\n",
    "\n",
    "        test_loss += loss.item()\n",
    "\n",
    "        for idx, gt in enumerate(labels):\n",
    "            #✔️ TODO: increment the total_predictions list at the index of the ground truth label\n",
    "            total_predictions[gt] += 1\n",
    "            if pred[idx] == gt:\n",
    "              correct_predictions[gt] += 1\n",
    "\n",
    "        #for confusion matrix\n",
    "        total_preds.extend(pred.tolist())\n",
    "        total_labels.extend(labels.tolist())\n",
    "\n",
    "    print('-' * 25)\n",
    "    print('Loss:', test_loss / len(test_loader))\n",
    "    print('Accuracy: {:.2f}%'.format(sum(correct_predictions) / sum(total_predictions) * 100))\n",
    "    print('-' * 25)\n",
    "    for i in range(0, 10):\n",
    "        print('Label {}: {:.2f}% acc - {} presences'.format(i, correct_predictions[i] / total_predictions[i] * 100, total_predictions[i]))\n",
    "\n",
    "    avg_test_loss = test_loss / len(test_loader)\n",
    "    return avg_test_loss, total_preds, total_labels"
   ]
  },
  {
   "cell_type": "markdown",
   "metadata": {
    "id": "0oRCt60ypnm-"
   },
   "source": [
    "## Training and evaluation process"
   ]
  },
  {
   "cell_type": "code",
   "execution_count": null,
   "metadata": {
    "id": "-mn7V-18eH__"
   },
   "outputs": [],
   "source": [
    "train_loader = DataLoader(train_dataset, batch_size=BATCH_SIZE, shuffle=True) #combines the data-set and a sampler and provides single- or multi-process iterators over the data-set, shuffle helps to generalize the network\n",
    "test_loader = DataLoader(test_dataset, batch_size=BATCH_SIZE, shuffle=True)"
   ]
  },
  {
   "cell_type": "code",
   "execution_count": null,
   "metadata": {
    "colab": {
     "base_uri": "https://localhost:8080/",
     "height": 1000
    },
    "id": "xRwDeaFzX75W",
    "outputId": "b1fa060d-03ee-4c3b-970f-aea5f682f705"
   },
   "outputs": [
    {
     "name": "stdout",
     "output_type": "stream",
     "text": [
      "<bound method Module.parameters of MyModel(\n",
      "  (model): Sequential(\n",
      "    (0): Flatten(start_dim=1, end_dim=-1)\n",
      "    (1): Linear(in_features=784, out_features=264, bias=True)\n",
      "    (2): ReLU()\n",
      "    (3): Dropout(p=0.25, inplace=False)\n",
      "    (4): Linear(in_features=264, out_features=128, bias=True)\n",
      "    (5): ReLU()\n",
      "    (6): Dropout(p=0.25, inplace=False)\n",
      "    (7): Linear(in_features=128, out_features=64, bias=True)\n",
      "    (8): ReLU()\n",
      "    (9): Dropout(p=0.25, inplace=False)\n",
      "    (10): Linear(in_features=64, out_features=28, bias=True)\n",
      "    (11): ReLU()\n",
      "    (12): Linear(in_features=28, out_features=10, bias=True)\n",
      "    (13): LogSoftmax(dim=1)\n",
      "  )\n",
      ")>\n",
      "# ### TRAIN\n",
      "Epoch: [1/50] - train loss: 0.0001425150074938467\n",
      "Epoch: [2/50] - train loss: 0.0001626738321298221\n",
      "Epoch: [3/50] - train loss: 8.257724710110662e-05\n",
      "Epoch: [4/50] - train loss: 0.00010786048257783024\n",
      "Epoch: [5/50] - train loss: 0.00016144524886409865\n",
      "Epoch: [6/50] - train loss: 3.5766472440284454e-05\n",
      "Epoch: [7/50] - train loss: 0.00010961638108245345\n",
      "Epoch: [8/50] - train loss: 4.273103371357867e-05\n",
      "Epoch: [9/50] - train loss: 1.3762442613524922e-05\n",
      "Epoch: [10/50] - train loss: 2.868873859519389e-05\n",
      "Epoch: [11/50] - train loss: 9.550763639623422e-06\n",
      "Epoch: [12/50] - train loss: 6.710995298458823e-05\n",
      "Epoch: [13/50] - train loss: 0.00038294332113855684\n",
      "Epoch: [14/50] - train loss: 5.90827784685692e-05\n",
      "Epoch: [15/50] - train loss: 4.6495642107941194e-05\n",
      "Epoch: [16/50] - train loss: 2.8248570525824136e-05\n",
      "Epoch: [17/50] - train loss: 9.243712146907474e-06\n",
      "Epoch: [18/50] - train loss: 0.00011538008827644625\n",
      "Epoch: [19/50] - train loss: 5.849439309222866e-05\n",
      "Epoch: [20/50] - train loss: 4.44621618177845e-05\n",
      "Epoch: [21/50] - train loss: 0.00012480289633594343\n",
      "Epoch: [22/50] - train loss: 0.000263610834887287\n",
      "Epoch: [23/50] - train loss: 6.17671797651726e-05\n",
      "Epoch: [24/50] - train loss: 1.1115446627171818e-06\n",
      "Epoch: [25/50] - train loss: 2.173175101976659e-05\n",
      "Epoch: [26/50] - train loss: 8.83081653860332e-06\n",
      "Epoch: [27/50] - train loss: 2.369410229294793e-06\n",
      "Epoch: [28/50] - train loss: 8.894902056277688e-06\n",
      "Epoch: [29/50] - train loss: 2.6143304427771936e-06\n",
      "Epoch: [30/50] - train loss: 0.0001639302796138121\n",
      "Epoch: [31/50] - train loss: 6.6629477909633095e-06\n",
      "Epoch: [32/50] - train loss: 5.646509084620201e-05\n",
      "Epoch: [33/50] - train loss: 9.68325112674282e-05\n",
      "Epoch: [34/50] - train loss: 6.995261656736006e-06\n",
      "Epoch: [35/50] - train loss: 0.00016768167077351226\n",
      "Epoch: [36/50] - train loss: 0.0001004800947109011\n",
      "Epoch: [37/50] - train loss: 6.7814208590971635e-06\n",
      "Epoch: [38/50] - train loss: 5.689626837621874e-06\n",
      "Epoch: [39/50] - train loss: 3.7683671944018113e-06\n",
      "Epoch: [40/50] - train loss: 6.995294297705772e-07\n",
      "Epoch: [41/50] - train loss: 1.6657700106851073e-05\n",
      "Epoch: [42/50] - train loss: 8.878232573649523e-06\n",
      "Epoch: [43/50] - train loss: 5.624315111653637e-06\n",
      "Epoch: [44/50] - train loss: 1.3232604463471533e-05\n",
      "Epoch: [45/50] - train loss: 1.1360183405850741e-05\n",
      "Epoch: [46/50] - train loss: 0.00022270671848549262\n",
      "Epoch: [47/50] - train loss: 4.583681776706598e-05\n",
      "Epoch: [48/50] - train loss: 3.523515390434753e-05\n",
      "Epoch: [49/50] - train loss: 8.887386144097171e-05\n"
     ]
    },
    {
     "data": {
      "image/png": "[encoded data removed]",
      "text/plain": [
       "<Figure size 640x480 with 1 Axes>"
      ]
     },
     "metadata": {},
     "output_type": "display_data"
    },
    {
     "name": "stdout",
     "output_type": "stream",
     "text": [
      "# ### TEST\n",
      "-------------------------\n",
      "Loss: 0.07689180006859801\n",
      "Accuracy: 98.41%\n",
      "-------------------------\n",
      "Label 0: 99.18% acc - 980 presences\n",
      "Label 1: 99.38% acc - 1135 presences\n",
      "Label 2: 98.74% acc - 1032 presences\n",
      "Label 3: 98.81% acc - 1010 presences\n",
      "Label 4: 98.78% acc - 982 presences\n",
      "Label 5: 97.65% acc - 892 presences\n",
      "Label 6: 98.33% acc - 958 presences\n",
      "Label 7: 98.15% acc - 1028 presences\n",
      "Label 8: 97.43% acc - 974 presences\n",
      "Label 9: 97.42% acc - 1009 presences\n"
     ]
    }
   ],
   "source": [
    "FCModel = MyModel(784, 264, 128, 64, 28)\n",
    "print(FCModel.parameters)\n",
    "\n",
    "#criterion = nn.CrossEntropyLoss()\n",
    "criterion = nn.NLLLoss()\n",
    "#optimizer = torch.optim.Adam(FCModel.parameters(), lr=LR)\n",
    "optimizer = torch.optim.SGD(FCModel.parameters(), lr=LR, momentum = 0.5)\n",
    "\n",
    "# ###\n",
    "train_losses = train(\n",
    "    model=FCModel,\n",
    "    crit=criterion,\n",
    "    opt=optimizer,\n",
    "    epochs=EPOCHS,\n",
    "    train_loader=train_loader\n",
    ")\n",
    "test_losses, total_preds, total_labels = test(\n",
    "    model=FCModel,\n",
    "    crit=criterion,\n",
    "    test_loader=test_loader\n",
    ")\n",
    "\n",
    "FCModel_LogSoftmax_NLL_SGD_Dropout_train_loss = train_losses\n",
    "FCModel_LogSoftmax_NLL_SGD_Dropout_test_loss = test_losses\n",
    "FCModel_LogSoftmax_NLL_SGD_Dropout_total_preds = total_preds\n",
    "FCModel_LogSoftmax_NLL_SGD_Dropout_total_labels = total_labels\n",
    "torch.save({\n",
    "    'model_state_dict': FCModel.state_dict(),\n",
    "    'test_losses': test_losses,\n",
    "    'total_preds': total_preds,\n",
    "    'total_labels': total_labels}, 'FCModel_LogSoftmax_NLL_SGD_Dropout.pth')"
   ]
  },
  {
   "cell_type": "code",
   "execution_count": null,
   "metadata": {
    "colab": {
     "base_uri": "https://localhost:8080/",
     "height": 1000
    },
    "id": "Q8X_q9MD4UzZ",
    "outputId": "ee05e6b1-6c18-4379-da74-f2ee375b7448"
   },
   "outputs": [
    {
     "name": "stdout",
     "output_type": "stream",
     "text": [
      "<bound method Module.parameters of MyCNNModel(\n",
      "  (model): Sequential(\n",
      "    (0): Conv2d(1, 32, kernel_size=(3, 3), stride=(1, 1))\n",
      "    (1): ReLU()\n",
      "    (2): MaxPool2d(kernel_size=2, stride=2, padding=0, dilation=1, ceil_mode=False)\n",
      "    (3): Conv2d(32, 64, kernel_size=(3, 3), stride=(1, 1))\n",
      "    (4): ReLU()\n",
      "    (5): MaxPool2d(kernel_size=2, stride=2, padding=0, dilation=1, ceil_mode=False)\n",
      "    (6): Flatten(start_dim=1, end_dim=-1)\n",
      "    (7): Linear(in_features=1600, out_features=128, bias=True)\n",
      "    (8): ReLU()\n",
      "    (9): Dropout(p=0.5, inplace=False)\n",
      "    (10): Linear(in_features=128, out_features=10, bias=True)\n",
      "    (11): LogSoftmax(dim=1)\n",
      "  )\n",
      ")>\n",
      "# ### TRAIN\n",
      "Epoch: [1/20] - train loss: 5.23673946351639e-06\n",
      "Epoch: [2/20] - train loss: 0.0001626691616166121\n",
      "Epoch: [3/20] - train loss: 4.407068861445893e-05\n",
      "Epoch: [4/20] - train loss: 2.745557628544186e-07\n",
      "Epoch: [5/20] - train loss: 5.974381892030427e-05\n",
      "Epoch: [6/20] - train loss: 9.40381027043247e-06\n",
      "Epoch: [7/20] - train loss: 3.000495454935885e-06\n",
      "Epoch: [8/20] - train loss: 6.286121571241919e-05\n",
      "Epoch: [9/20] - train loss: 8.875620334214572e-08\n",
      "Epoch: [10/20] - train loss: 5.996451456981427e-07\n",
      "Epoch: [11/20] - train loss: 6.383212446086188e-06\n",
      "Epoch: [12/20] - train loss: 2.186250702134455e-06\n",
      "Epoch: [13/20] - train loss: 6.73918835898198e-05\n",
      "Epoch: [14/20] - train loss: 4.344246239026091e-08\n",
      "Epoch: [15/20] - train loss: 1.3688640698278225e-07\n",
      "Epoch: [16/20] - train loss: 8.941530115973911e-07\n",
      "Epoch: [17/20] - train loss: 7.828270281994664e-08\n",
      "Epoch: [18/20] - train loss: 3.9871171070163504e-07\n",
      "Epoch: [19/20] - train loss: 1.874622076686257e-05\n"
     ]
    },
    {
     "data": {
      "image/png": "[encoded data removed]",
      "text/plain": [
       "<Figure size 640x480 with 1 Axes>"
      ]
     },
     "metadata": {},
     "output_type": "display_data"
    },
    {
     "name": "stdout",
     "output_type": "stream",
     "text": [
      "# ### TEST\n",
      "-------------------------\n",
      "Loss: 0.02673319313783737\n",
      "Accuracy: 99.34%\n",
      "-------------------------\n",
      "Label 0: 99.69% acc - 980 presences\n",
      "Label 1: 99.74% acc - 1135 presences\n",
      "Label 2: 99.71% acc - 1032 presences\n",
      "Label 3: 99.41% acc - 1010 presences\n",
      "Label 4: 99.19% acc - 982 presences\n",
      "Label 5: 99.33% acc - 892 presences\n",
      "Label 6: 99.27% acc - 958 presences\n",
      "Label 7: 99.12% acc - 1028 presences\n",
      "Label 8: 98.87% acc - 974 presences\n",
      "Label 9: 99.01% acc - 1009 presences\n"
     ]
    }
   ],
   "source": [
    "CNNModel = MyCNNModel()\n",
    "print(CNNModel.parameters)\n",
    "criterion = nn.CrossEntropyLoss()\n",
    "optimizer = torch.optim.Adam(CNNModel.parameters(), lr=LR)\n",
    "\n",
    "# ###\n",
    "avg_train_loss = train(\n",
    "    model=CNNModel,\n",
    "    crit=criterion,\n",
    "    opt=optimizer,\n",
    "    epochs=EPOCHS,\n",
    "    train_loader=train_loader\n",
    ")\n",
    "avg_test_loss, total_preds, total_labels = test(\n",
    "    model=CNNModel,\n",
    "    crit=criterion,\n",
    "    test_loader=test_loader\n",
    ")\n",
    "\n",
    "CNNModel_CrossEntropy_Adam_train_loss = avg_train_loss\n",
    "CNNModel_CrossEntropy_Adam_test_loss = avg_test_loss\n",
    "CNNModel_CrossEntropy_Adam_total_preds = total_preds\n",
    "CNNModel_CrossEntropy_Adam_total_labels = total_labels\n",
    "torch.save({\n",
    "    'model_state_dict': CNNModel.state_dict(),\n",
    "    'test_losses': test_losses,\n",
    "    'total_preds': total_preds,\n",
    "    'total_labels': total_labels}, 'CNNModel_CrossEntropy_Adam.pth')"
   ]
  }
 ],
 "metadata": {
  "accelerator": "GPU",
  "colab": {
   "gpuType": "T4",
   "provenance": []
  },
  "kernelspec": {
   "display_name": "Python (GPU)",
   "language": "python",
   "name": "gpu_env"
  },
  "language_info": {
   "codemirror_mode": {
    "name": "ipython",
    "version": 3
   },
   "file_extension": ".py",
   "mimetype": "text/x-python",
   "name": "python",
   "nbconvert_exporter": "python",
   "pygments_lexer": "ipython3",
   "version": "3.11.2"
  }
 },
 "nbformat": 4,
 "nbformat_minor": 1
}
