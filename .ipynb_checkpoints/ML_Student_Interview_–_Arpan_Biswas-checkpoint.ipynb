{
 "cells": [
  {
   "cell_type": "markdown",
   "metadata": {
    "id": "nAQweesvxjVj"
   },
   "source": [
    "# MNIST Digit Classification using Fully Connected Network and Convolutional Neurl Network\n"
   ]
  },
  {
   "cell_type": "markdown",
   "metadata": {
    "id": "d85PhBYnSpS3"
   },
   "source": [
    "# Setup"
   ]
  },
  {
   "cell_type": "code",
   "execution_count": 1,
   "metadata": {
    "id": "V8ljAH_GwFeU"
   },
   "outputs": [],
   "source": [
    "import random\n",
    "from base64 import b64decode as dec\n",
    "\n",
    "import numpy as np\n",
    "import torch\n",
    "import torch.nn as nn\n",
    "from torchvision import datasets, transforms\n",
    "import matplotlib.pyplot as plt\n",
    "\n",
    "# ### Include HERE any additionally needed libary\n",
    "from torch.utils.data import DataLoader\n",
    "from sklearn.metrics import confusion_matrix\n",
    "import seaborn as sns"
   ]
  },
  {
   "cell_type": "code",
   "execution_count": 2,
   "metadata": {
    "id": "KK_3zo8WSs8_"
   },
   "outputs": [
    {
     "name": "stdout",
     "output_type": "stream",
     "text": [
      "Downloading http://yann.lecun.com/exdb/mnist/train-images-idx3-ubyte.gz\n",
      "Downloading http://yann.lecun.com/exdb/mnist/train-images-idx3-ubyte.gz to ../data\\MNIST\\raw\\train-images-idx3-ubyte.gz\n"
     ]
    },
    {
     "name": "stderr",
     "output_type": "stream",
     "text": [
      "100%|██████████| 9912422/9912422 [00:00<00:00, 18707767.06it/s]\n"
     ]
    },
    {
     "name": "stdout",
     "output_type": "stream",
     "text": [
      "Extracting ../data\\MNIST\\raw\\train-images-idx3-ubyte.gz to ../data\\MNIST\\raw\n",
      "\n",
      "Downloading http://yann.lecun.com/exdb/mnist/train-labels-idx1-ubyte.gz\n",
      "Downloading http://yann.lecun.com/exdb/mnist/train-labels-idx1-ubyte.gz to ../data\\MNIST\\raw\\train-labels-idx1-ubyte.gz\n"
     ]
    },
    {
     "name": "stderr",
     "output_type": "stream",
     "text": [
      "100%|██████████| 28881/28881 [00:00<?, ?it/s]"
     ]
    },
    {
     "name": "stdout",
     "output_type": "stream",
     "text": [
      "Extracting ../data\\MNIST\\raw\\train-labels-idx1-ubyte.gz to ../data\\MNIST\\raw\n",
      "\n",
      "Downloading http://yann.lecun.com/exdb/mnist/t10k-images-idx3-ubyte.gz\n"
     ]
    },
    {
     "name": "stderr",
     "output_type": "stream",
     "text": [
      "\n"
     ]
    },
    {
     "name": "stdout",
     "output_type": "stream",
     "text": [
      "Downloading http://yann.lecun.com/exdb/mnist/t10k-images-idx3-ubyte.gz to ../data\\MNIST\\raw\\t10k-images-idx3-ubyte.gz\n"
     ]
    },
    {
     "name": "stderr",
     "output_type": "stream",
     "text": [
      "100%|██████████| 1648877/1648877 [00:00<00:00, 15676676.83it/s]"
     ]
    },
    {
     "name": "stdout",
     "output_type": "stream",
     "text": [
      "Extracting ../data\\MNIST\\raw\\t10k-images-idx3-ubyte.gz to ../data\\MNIST\\raw\n"
     ]
    },
    {
     "name": "stderr",
     "output_type": "stream",
     "text": [
      "\n"
     ]
    },
    {
     "name": "stdout",
     "output_type": "stream",
     "text": [
      "\n",
      "Downloading http://yann.lecun.com/exdb/mnist/t10k-labels-idx1-ubyte.gz\n",
      "Downloading http://yann.lecun.com/exdb/mnist/t10k-labels-idx1-ubyte.gz to ../data\\MNIST\\raw\\t10k-labels-idx1-ubyte.gz\n"
     ]
    },
    {
     "name": "stderr",
     "output_type": "stream",
     "text": [
      "100%|██████████| 4542/4542 [00:00<?, ?it/s]"
     ]
    },
    {
     "name": "stdout",
     "output_type": "stream",
     "text": [
      "Extracting ../data\\MNIST\\raw\\t10k-labels-idx1-ubyte.gz to ../data\\MNIST\\raw\n",
      "\n"
     ]
    },
    {
     "name": "stderr",
     "output_type": "stream",
     "text": [
      "\n"
     ]
    }
   ],
   "source": [
    "# ### Load the mnist dataset\n",
    "train_dataset = datasets.MNIST('../data', train=True, download=True, transform=transforms.ToTensor())\n",
    "test_dataset = datasets.MNIST('../data', train=False, transform=transforms.ToTensor())"
   ]
  },
  {
   "cell_type": "code",
   "execution_count": 3,
   "metadata": {
    "colab": {
     "base_uri": "https://localhost:8080/"
    },
    "id": "xXLJlHPQze_Z",
    "outputId": "c543733c-c88f-4078-fd10-9bd0d35188d2"
   },
   "outputs": [
    {
     "name": "stdout",
     "output_type": "stream",
     "text": [
      "Train: 60000\n",
      "Test: 10000\n"
     ]
    }
   ],
   "source": [
    "print('Train:', len(train_dataset))\n",
    "print('Test:',len(test_dataset))"
   ]
  },
  {
   "cell_type": "code",
   "execution_count": 4,
   "metadata": {
    "colab": {
     "base_uri": "https://localhost:8080/"
    },
    "id": "qGdC9ns_zU3U",
    "outputId": "3e6d2697-f0ed-49cb-c24a-aebf7a86f148"
   },
   "outputs": [
    {
     "name": "stdout",
     "output_type": "stream",
     "text": [
      "Shape of the first image: torch.Size([1, 28, 28])\n",
      "Label of the first image: 5\n"
     ]
    }
   ],
   "source": [
    "#✔️ TODO: print the shape of the first image of the train_dataset, and it's label\n",
    "first_image, first_label = train_dataset[0]\n",
    "print(\"Shape of the first image:\", first_image.shape)\n",
    "print(\"Label of the first image:\", first_label)"
   ]
  },
  {
   "cell_type": "code",
   "execution_count": 5,
   "metadata": {
    "colab": {
     "base_uri": "https://localhost:8080/",
     "height": 447
    },
    "id": "V4x0A7LHS_kP",
    "outputId": "efbcc459-d7d7-49f9-b32c-aad0e746bf55"
   },
   "outputs": [
    {
     "name": "stdout",
     "output_type": "stream",
     "text": [
      "4\n"
     ]
    },
    {
     "data": {
      "image/png": "[encoded data removed]",
      "text/plain": [
       "<Figure size 640x480 with 1 Axes>"
      ]
     },
     "metadata": {},
     "output_type": "display_data"
    }
   ],
   "source": [
    "# ### Visualize a random sample\n",
    "x, y = train_dataset[random.randint(0, len(train_dataset))]\n",
    "plt.imshow(np.squeeze(x), cmap='gray')\n",
    "print(y)"
   ]
  },
  {
   "cell_type": "markdown",
   "metadata": {
    "id": "CQyV2lvyW-g-"
   },
   "source": [
    "# Models"
   ]
  },
  {
   "cell_type": "markdown",
   "metadata": {
    "id": "I1IORRi2cavn"
   },
   "source": [
    "## Hyperparameters"
   ]
  },
  {
   "cell_type": "code",
   "execution_count": 6,
   "metadata": {
    "id": "QUCWDWi-Ya1_"
   },
   "outputs": [],
   "source": [
    "DEVICE = 'cuda:0' if torch.cuda.is_available() else 'cpu'\n",
    "\n",
    "# ### Alter hyperparameters so that they suite the problem the best\n",
    "BATCH_SIZE = 64\n",
    "LR = 0.025\n",
    "EPOCHS = 50"
   ]
  },
  {
   "cell_type": "markdown",
   "metadata": {
    "id": "y57Vo0vncdYt"
   },
   "source": [
    "## Fully Connected Model"
   ]
  },
  {
   "cell_type": "code",
   "execution_count": 7,
   "metadata": {
    "colab": {
     "base_uri": "https://localhost:8080/",
     "height": 53
    },
    "id": "q7HPXAW3XAmG",
    "outputId": "9c00e4db-4f59-4cde-9cca-7e215705f47c"
   },
   "outputs": [
    {
     "data": {
      "text/plain": [
       "'\\n4 layers without dropout, CrossEntropy, ADAM - Loss: 0.49702330082654955, Accuracy: 83.60%\\n\\n4 layers with dropout, CrossEntropy, ADAM - Loss: 0.30366133227944375, Accuracy: 93.51%\\n\\n4 layers without dropout, NLLEntropy, SGD - Loss: 0.09716107309795916, Accuracy: 97.30%\\n\\n4 layers with dropout, NLLEntropy, SGD - Loss: 0.08718575983075424, Accuracy: 97.63%\\n'"
      ]
     },
     "execution_count": 7,
     "metadata": {},
     "output_type": "execute_result"
    }
   ],
   "source": [
    "#✔️ TODO: customize the MyModel class to be able to tweak number of layers/neurons\n",
    "#       per layer & regularization so that you can test multiple hypotheses.\n",
    "#\n",
    "#       The final network should contain at least 3 fully connected layers, and\n",
    "#       one regularization method. Use activation functions after every inner\n",
    "#       linear layer.\n",
    "#       Hint: start simple, and incrementally add complexity. Keep track of your\n",
    "#       iterations by utilizing comments.\n",
    "\n",
    "class MyModel(nn.Module):\n",
    "    def __init__(self, input_size, layer_size1, layer_size2, layer_size3, layer_size4, dropout=0.25):\n",
    "        super(MyModel, self).__init__()\n",
    "        self.model = nn.Sequential(\n",
    "            nn.Flatten(),\n",
    "            nn.Linear(input_size, layer_size1),\n",
    "            nn.ReLU(),\n",
    "            nn.Dropout(dropout),\n",
    "            nn.Linear(layer_size1, layer_size2),\n",
    "            nn.ReLU(),\n",
    "            nn.Dropout(dropout),\n",
    "            nn.Linear(layer_size2, layer_size3),\n",
    "            nn.ReLU(),\n",
    "            nn.Dropout(dropout),\n",
    "            nn.Linear(layer_size3, layer_size4),\n",
    "            nn.ReLU(),\n",
    "            nn.Linear(layer_size4, 10),\n",
    "            nn.LogSoftmax(dim=1)\n",
    "        )\n",
    "\n",
    "    def forward(self, x):\n",
    "        return self.model(x)\n",
    "\n",
    "\"\"\"\n",
    "4 layers without dropout, CrossEntropy, ADAM - Loss: 0.49702330082654955, Accuracy: 83.60%\n",
    "\n",
    "4 layers with dropout, CrossEntropy, ADAM - Loss: 0.30366133227944375, Accuracy: 93.51%\n",
    "\n",
    "4 layers without dropout, NLLEntropy, SGD - Loss: 0.09716107309795916, Accuracy: 97.30%\n",
    "\n",
    "4 layers with dropout, NLLEntropy, SGD - Loss: 0.08718575983075424, Accuracy: 97.63%\n",
    "\"\"\""
   ]
  },
  {
   "cell_type": "markdown",
   "metadata": {
    "id": "Dg8lD7Ogcp80"
   },
   "source": [
    "## Convolutional Model"
   ]
  },
  {
   "cell_type": "code",
   "execution_count": 8,
   "metadata": {
    "colab": {
     "base_uri": "https://localhost:8080/",
     "height": 35
    },
    "id": "Yziopv1Ucr28",
    "outputId": "3484dfd3-bde3-4bd4-bfdc-fcddbb25bd70"
   },
   "outputs": [
    {
     "data": {
      "text/plain": [
       "'\\n2 Convolational layers and 1 linear layer with dropout NLL, and SGD = train loss: 0.0001068090742572825, test Loss: 0.028232653439044953, Accuracy: 99.03%\\n\\n'"
      ]
     },
     "execution_count": 8,
     "metadata": {},
     "output_type": "execute_result"
    }
   ],
   "source": [
    "#✔️ TODO: customize the MyCNNModel class to be able to tweak number of layers/neurons\n",
    "#       per layer & regularization so that you can test multiple hypotheses.\n",
    "#\n",
    "#       The final network should contain at least 2 convolutional layers, one\n",
    "#       linear layer. Use activation functions after every convolutional layer.\n",
    "#       Hint: start simple, and incrementally add complexity. Keep track of your\n",
    "#       iterations by utilizing comments.\n",
    "\n",
    "class MyCNNModel(nn.Module):\n",
    "    def __init__(self):\n",
    "        super(MyCNNModel, self).__init__()\n",
    "\n",
    "        self.model = nn.Sequential(nn.Conv2d(1, 256, (3,3)),\n",
    "                                   nn.ReLU(),\n",
    "                                   nn.Conv2d(256, 512, (3,3)),\n",
    "                                   nn.ReLU(),\n",
    "                                   nn.Conv2d(512,512, (3,3)),\n",
    "                                   nn.ReLU(),\n",
    "                                   nn.Flatten(),\n",
    "                                   nn.Linear(512*(28-6)*(28-6), 10),\n",
    "                                   nn.LogSoftmax(dim=1)\n",
    "                                  )\n",
    "    def forward(self, x):\n",
    "        return self.model(x)\n",
    "\"\"\"\n",
    "2 Convolational layers and 1 linear layer with dropout NLL, and SGD = train loss: 0.0001068090742572825, test Loss: 0.028232653439044953, Accuracy: 99.03%\n",
    "\n",
    "\"\"\""
   ]
  },
  {
   "cell_type": "code",
   "execution_count": null,
   "metadata": {
    "id": "6YXJbuXLT2VT"
   },
   "outputs": [],
   "source": [
    "class MyCNNModel(nn.Module):\n",
    "    def __init__(self):\n",
    "        super(MyCNNModel, self).__init__()\n",
    "\n",
    "        self.model = nn.Sequential(nn.Conv2d(1, 256, (3,3)),\n",
    "                                   nn.ReLU(),\n",
    "                                   nn.Conv2d(256, 512, (3,3)),\n",
    "                                   nn. ReLU(),\n",
    "                                   nn.Conv2d(512,512, (3,3)),\n",
    "                                   nn.ReLU(),\n",
    "                                   nn.Flatten(),\n",
    "                                   nn.Linear(512*(28-6)*(28-6), 10)\n",
    "                                  )\n",
    "    def forward(self, x):\n",
    "        return self.model(x)"
   ]
  },
  {
   "cell_type": "code",
   "execution_count": null,
   "metadata": {
    "id": "F0iBNAHZSPS6"
   },
   "outputs": [],
   "source": [
    "# Based on https://towardsdatascience.com/going-beyond-99-mnist-handwritten-digits-recognition-cfff96337392\n",
    "class ModifiedLeNet_5(nn.Module):\n",
    "    def __init__(self):\n",
    "        super(ModifiedLeNet_5, self).__init__()\n",
    "        self.conv_layers = nn.Sequential(\n",
    "            nn.Conv2d(1, 32, kernel_size=5, stride=1, padding=2),\n",
    "            nn.ReLU(),\n",
    "            nn.BatchNorm2d(32),\n",
    "            nn.Conv2d(32, 32, kernel_size=5, stride=1, padding=2, bias=False),\n",
    "            nn.ReLU(),\n",
    "            nn.MaxPool2d(2, 2),\n",
    "            nn.Dropout(0.25),\n",
    "            nn.Conv2d(32, 64, kernel_size=3, stride=1, padding=1),\n",
    "            nn.ReLU(),\n",
    "            nn.Conv2d(64, 64, kernel_size=3, stride=1, padding=1, bias=False),\n",
    "            nn.ReLU(),\n",
    "            nn.MaxPool2d(2, 2),\n",
    "            nn.Dropout(0.25)\n",
    "        )\n",
    "\n",
    "        self.fc_layers = nn.Sequential(\n",
    "            nn.Flatten(),\n",
    "            nn.Linear(64 * 8 * 8, 256, bias=False),\n",
    "            nn.ReLU(),\n",
    "            nn.BatchNorm1d(256),\n",
    "            nn.Dropout(0.25),\n",
    "            nn.Linear(256, 128, bias=False),\n",
    "            nn.ReLU(),\n",
    "            nn.BatchNorm1d(128),\n",
    "            nn.Dropout(0.25),\n",
    "            nn.Linear(128, 84, bias=False),\n",
    "            nn.ReLU(),\n",
    "            nn.BatchNorm1d(84),\n",
    "            nn.Dropout(0.25),\n",
    "            nn.Linear(84, 10),\n",
    "            nn.LogSoftmax(dim=1)\n",
    "        )\n",
    "\n",
    "    def forward(self, x):\n",
    "        x = self.conv_layers(x)\n",
    "        x = self.fc_layers(x)\n",
    "        return x"
   ]
  },
  {
   "cell_type": "code",
   "execution_count": null,
   "metadata": {
    "id": "EnuyvMQd_Y-D"
   },
   "outputs": [],
   "source": [
    "#Based on Hirata, Daiki, and Norikazu Takahashi. \"Ensemble learning in CNN augmented with fully connected subnetworks.\" IEICE TRANSACTIONS on Information and Systems 106.7 (2023): 1258-1261.\n",
    "\n",
    "class EnsNetBaseCNN(nn.Module):\n",
    "    def __init__(self):\n",
    "        super(EnsNetBaseCNN, self).__init__()\n",
    "        self.model = nn.Sequential(\n",
    "            nn.Conv2d(1, 64, kernel_size=3, padding=1),\n",
    "            nn.ReLU(),\n",
    "            nn.BatchNorm2d(64),\n",
    "            nn.Dropout(0.35),\n",
    "\n",
    "            nn.Conv2d(64, 128, kernel_size=3, padding=1),\n",
    "            nn.ReLU(),\n",
    "            nn.BatchNorm2d(128),\n",
    "            nn.Dropout(0.35),\n",
    "\n",
    "            nn.Conv2d(128, 256, kernel_size=3, padding=1),\n",
    "            nn.ReLU(),\n",
    "            nn.BatchNorm2d(256),\n",
    "            nn.MaxPool2d(2),\n",
    "            nn.Dropout(0.35),\n",
    "\n",
    "            nn.Conv2d(256, 512, kernel_size=3, padding=1),\n",
    "            nn.ReLU(),\n",
    "            nn.BatchNorm2d(512),\n",
    "            nn.Dropout(0.35),\n",
    "\n",
    "            nn.Conv2d(512, 1024, kernel_size=3),\n",
    "            nn.ReLU(),\n",
    "            nn.BatchNorm2d(1024),\n",
    "            nn.MaxPool2d(2),\n",
    "            nn.Dropout(0.35),\n",
    "\n",
    "            nn.Conv2d(1024, 2000, kernel_size=3, padding=1),\n",
    "            nn.ReLU(),\n",
    "            nn.BatchNorm2d(2000),\n",
    "            nn.Dropout(0.35),\n",
    "\n",
    "            nn.Flatten(),\n",
    "            nn.Linear(2000 * 6 * 6, 512),\n",
    "            nn.ReLU(),\n",
    "            nn.Dropout(0.35),\n",
    "            nn.Linear(512, 512),\n",
    "            nn.ReLU(),\n",
    "            nn.Dropout(0.35),\n",
    "            nn.Linear(512, 10),\n",
    "            nn.LogSoftmax(dim=1)\n",
    "        )\n",
    "\n",
    "    def forward(self, x):\n",
    "        return self.model(x)"
   ]
  },
  {
   "cell_type": "markdown",
   "metadata": {
    "id": "dFuHi5wmcftW"
   },
   "source": [
    "# Train & Evaluation"
   ]
  },
  {
   "cell_type": "code",
   "execution_count": 9,
   "metadata": {
    "id": "a7-oAh3RYWE-"
   },
   "outputs": [],
   "source": [
    "def train(model, crit, opt, epochs, train_loader) -> None:\n",
    "    print(\"# ### TRAIN\")\n",
    "    \"\"\"function to perform the training process, using the defined model, criterion\n",
    "    and optimizer objects. Prints train loss evolution at specific epoch increments\n",
    "    and plots at the end of the loss throughout every epoch\n",
    "\n",
    "    :param model: ML model instance extending nn.Module class\n",
    "    :param crit: criterion, nn.*Loss() instance\n",
    "    :param opt: optimizer, nn.optim.* instance\n",
    "    :param train_loader: torch DataLoader instance containing training samples\n",
    "    :return: None\"\"\"\n",
    "    train_losses = []\n",
    "\n",
    "    model.to(DEVICE)\n",
    "    #✔️ TODO: prep model for training\n",
    "    model.train()\n",
    "\n",
    "    for epoch in range(epochs):\n",
    "        losses = 0\n",
    "        for images, labels in train_loader:\n",
    "            opt.zero_grad()\n",
    "            y_hat = model(images.to(DEVICE))\n",
    "            loss = crit(y_hat, labels.to(DEVICE))\n",
    "\n",
    "            #✔️ TODO: make the necessary update for the loss and optimizer\n",
    "            loss.backward() # the model learns by backpropagating by calculating gradients\n",
    "            opt.step() # And optimizes its weights here and update parameter after every iteration (gradient descent step)\n",
    "            losses =+ loss.item()\n",
    "\n",
    "        train_loss = losses / len(train_loader)\n",
    "        train_losses.append(train_loss)\n",
    "        if epoch != 0 and epoch % 5 == 0:\n",
    "            print('Epoch: [{}/{}] - train loss: {}'.format(epoch, epochs, train_loss))\n",
    "\n",
    "    # plot the process of training, visualizing losses\n",
    "    plt.plot(range(0, len(train_losses)), train_losses)\n",
    "    plt.show()\n",
    "\n",
    "    avg_train_loss = losses / len(train_loader)\n",
    "    return avg_train_loss"
   ]
  },
  {
   "cell_type": "code",
   "execution_count": 10,
   "metadata": {
    "id": "g3I1NdbbbtDz"
   },
   "outputs": [],
   "source": [
    "def test(model, crit, test_loader) -> None:\n",
    "    print(\"# ### TEST\")\n",
    "    \"\"\"function to perform the evaluation process, using the defined model and\n",
    "    criterion. Prints test loss, overall accuracy and class-wise accuracy for\n",
    "    samples of the test dataset.\n",
    "\n",
    "    :param model: ML model instance extending nn.Module class\n",
    "    :param crit: criterion, nn.*Loss() instance\n",
    "    :param test_loader: torch DataLoader instance containing testing samples\n",
    "    :return: None\"\"\"\n",
    "    test_loss = 0\n",
    "\n",
    "    # dictionaries used to evaluate for each class the accuracy of the model\n",
    "    total_predictions = [0 for i in range(0, 10)]\n",
    "    correct_predictions = [0 for i in range(0, 10)]\n",
    "\n",
    "    total_preds = []\n",
    "    total_labels = []\n",
    "\n",
    "    model.to(DEVICE)\n",
    "    #✔️ TODO: prep model for evaluation\n",
    "    model.eval()\n",
    "\n",
    "    for images, labels in test_loader:\n",
    "        y_hat = model(images)\n",
    "        _, pred = torch.max(y_hat, 1)  #✔️ TODO why is this needed here? - Stores the indices of maximum value\n",
    "        loss = criterion(y_hat, labels)\n",
    "\n",
    "        test_loss += loss.item()\n",
    "\n",
    "        for idx, gt in enumerate(labels):\n",
    "            #✔️ TODO: increment the total_predictions list at the index of the ground truth label\n",
    "            total_predictions[gt] += 1\n",
    "            if pred[idx] == gt:\n",
    "              correct_predictions[gt] += 1\n",
    "\n",
    "        #for confusion matrix\n",
    "        total_preds.extend(pred.tolist())\n",
    "        total_labels.extend(labels.tolist())\n",
    "\n",
    "    print('-' * 25)\n",
    "    print('Loss:', test_loss / len(test_loader))\n",
    "    print('Accuracy: {:.2f}%'.format(sum(correct_predictions) / sum(total_predictions) * 100))\n",
    "    print('-' * 25)\n",
    "    for i in range(0, 10):\n",
    "        print('Label {}: {:.2f}% acc - {} presences'.format(i, correct_predictions[i] / total_predictions[i] * 100, total_predictions[i]))\n",
    "\n",
    "    avg_test_loss = test_loss / len(test_loader)\n",
    "    return avg_test_loss, total_preds, total_labels"
   ]
  },
  {
   "cell_type": "markdown",
   "metadata": {
    "id": "0oRCt60ypnm-"
   },
   "source": [
    "## Training and evaluation process"
   ]
  },
  {
   "cell_type": "code",
   "execution_count": 11,
   "metadata": {
    "id": "-mn7V-18eH__"
   },
   "outputs": [],
   "source": [
    "# ### Prepare data loaders\n",
    "# https://pytorch.org/docs/stable/data.html#torch.utils.data.DataLoader\n",
    "\n",
    "#✔️ TODO: check carefully the constructor parameters of the DataLoader.\n",
    "#       Give an example of a parameter which is used to create a dataset that\n",
    "#       helps the neural networks generalize?\n",
    "train_loader = DataLoader(train_dataset, batch_size=BATCH_SIZE, shuffle=True) #combines the data-set and a sampler and provides single- or multi-process iterators over the data-set, shuffle helps to generalize the network\n",
    "test_loader = DataLoader(test_dataset, batch_size=BATCH_SIZE, shuffle=True)"
   ]
  },
  {
   "cell_type": "code",
   "execution_count": null,
   "metadata": {
    "colab": {
     "base_uri": "https://localhost:8080/",
     "height": 1000
    },
    "id": "xRwDeaFzX75W",
    "outputId": "fce01c00-b011-4729-9e49-dc4c06a0a386"
   },
   "outputs": [
    {
     "name": "stdout",
     "output_type": "stream",
     "text": [
      "<bound method Module.parameters of MyModel(\n",
      "  (model): Sequential(\n",
      "    (0): Flatten(start_dim=1, end_dim=-1)\n",
      "    (1): Linear(in_features=784, out_features=264, bias=True)\n",
      "    (2): ReLU()\n",
      "    (3): Dropout(p=0.25, inplace=False)\n",
      "    (4): Linear(in_features=264, out_features=128, bias=True)\n",
      "    (5): ReLU()\n",
      "    (6): Dropout(p=0.25, inplace=False)\n",
      "    (7): Linear(in_features=128, out_features=64, bias=True)\n",
      "    (8): ReLU()\n",
      "    (9): Dropout(p=0.25, inplace=False)\n",
      "    (10): Linear(in_features=64, out_features=28, bias=True)\n",
      "    (11): ReLU()\n",
      "    (12): Linear(in_features=28, out_features=10, bias=True)\n",
      "    (13): LogSoftmax(dim=1)\n",
      "  )\n",
      ")>\n",
      "# ### TRAIN\n",
      "Epoch: [5/10] - train loss: 0.002218382662915169\n"
     ]
    },
    {
     "data": {
      "image/png": "[encoded data removed]",
      "text/plain": [
       "<Figure size 640x480 with 1 Axes>"
      ]
     },
     "metadata": {},
     "output_type": "display_data"
    },
    {
     "name": "stdout",
     "output_type": "stream",
     "text": [
      "# ### TEST\n",
      "-------------------------\n",
      "Loss: 0.16186498794704676\n",
      "Accuracy: 95.37%\n",
      "-------------------------\n",
      "Label 0: 98.47% acc - 980 presences\n",
      "Label 1: 98.77% acc - 1135 presences\n",
      "Label 2: 95.16% acc - 1032 presences\n",
      "Label 3: 95.35% acc - 1010 presences\n",
      "Label 4: 95.72% acc - 982 presences\n",
      "Label 5: 90.13% acc - 892 presences\n",
      "Label 6: 96.66% acc - 958 presences\n",
      "Label 7: 95.33% acc - 1028 presences\n",
      "Label 8: 93.84% acc - 974 presences\n",
      "Label 9: 93.36% acc - 1009 presences\n"
     ]
    }
   ],
   "source": [
    "FCModel = MyModel(784, 264, 128, 64, 28)\n",
    "print(FCModel.parameters)\n",
    "#✔️ TODO: choose your criterion and optimizer the best suited for the task at hand\n",
    "\n",
    "#criterion = nn.CrossEntropyLoss()\n",
    "criterion = nn.NLLLoss()\n",
    "#optimizer = torch.optim.Adam(FCModel.parameters(), lr=LR)\n",
    "optimizer = torch.optim.SGD(FCModel.parameters(), lr=LR, momentum = 0.5)\n",
    "\n",
    "# ###\n",
    "train_losses = train(\n",
    "    model=FCModel,\n",
    "    crit=criterion,\n",
    "    opt=optimizer,\n",
    "    epochs=EPOCHS,\n",
    "    train_loader=train_loader\n",
    ")\n",
    "test_losses, total_preds, total_labels = test(\n",
    "    model=FCModel,\n",
    "    crit=criterion,\n",
    "    test_loader=test_loader\n",
    ")\n",
    "\n",
    "FCModel_LogSoftmax_NLL_SGD_Dropout_train_loss = train_losses\n",
    "FCModel_LogSoftmax_NLL_SGD_Dropout_test_loss = test_losses\n",
    "FCModel_LogSoftmax_NLL_SGD_Dropout_total_preds = total_preds\n",
    "FCModel_LogSoftmax_NLL_SGD_Dropout_total_labels = total_labels\n",
    "torch.save(FCModel, 'FCModel_LogSoftmax_NLL_SGD_Dropout.pth')"
   ]
  },
  {
   "cell_type": "code",
   "execution_count": null,
   "metadata": {
    "colab": {
     "base_uri": "https://localhost:8080/"
    },
    "id": "JwnDxjt3p088",
    "outputId": "3a44ac28-fcc3-4abb-d7ab-cee1711c6be9"
   },
   "outputs": [
    {
     "name": "stdout",
     "output_type": "stream",
     "text": [
      "# ### TRAIN\n"
     ]
    }
   ],
   "source": [
    "CNNModel = MyCNNModel()\n",
    "#✔️ TODO: choose your criterion and optimizer the best suited for the task at hand\n",
    "criterion = nn.NLLLoss()\n",
    "optimizer = torch.optim.SGD(CNNModel.parameters(), lr=LR, momentum = 0.5)\n",
    "\n",
    "# ###\n",
    "avg_train_loss = train(\n",
    "    model=CNNModel,\n",
    "    crit=criterion,\n",
    "    opt=optimizer,\n",
    "    epochs=EPOCHS,\n",
    "    train_loader=train_loader\n",
    ")\n",
    "avg_test_loss, total_preds, total_labels = test(\n",
    "    model=CNNModel,\n",
    "    crit=criterion,\n",
    "    test_loader=test_loader\n",
    ")\n",
    "\n",
    "CNNModel_LogSoftmax_NLL_SGD_train_loss = avg_train_loss\n",
    "CNNModel_LogSoftmax_NLL_SGD_test_loss = avg_test_loss\n",
    "CNNModel_LogSoftmax_NLL_SGD_total_preds = total_preds\n",
    "CNNModel_LogSoftmax_NLL_SGD_total_labels = total_labels\n",
    "torch.save(FCModel, 'CNNModel_LogSoftmax_NLL_SGD.pth')"
   ]
  },
  {
   "cell_type": "code",
   "execution_count": 11,
   "metadata": {
    "colab": {
     "base_uri": "https://localhost:8080/",
     "height": 407
    },
    "id": "mhlJlsG5LM2s",
    "outputId": "c2a444a6-8f74-4f8f-e441-0514e3ddf578"
   },
   "outputs": [
    {
     "name": "stdout",
     "output_type": "stream",
     "text": [
      "# ### TRAIN\n"
     ]
    },
    {
     "ename": "KeyboardInterrupt",
     "evalue": "ignored",
     "output_type": "error",
     "traceback": [
      "\u001b[0;31m---------------------------------------------------------------------------\u001b[0m",
      "\u001b[0;31mKeyboardInterrupt\u001b[0m                         Traceback (most recent call last)",
      "\u001b[0;32m<ipython-input-11-86ce7988e7ff>\u001b[0m in \u001b[0;36m<cell line: 7>\u001b[0;34m()\u001b[0m\n\u001b[1;32m      5\u001b[0m \u001b[0;34m\u001b[0m\u001b[0m\n\u001b[1;32m      6\u001b[0m \u001b[0;31m# ###\u001b[0m\u001b[0;34m\u001b[0m\u001b[0;34m\u001b[0m\u001b[0m\n\u001b[0;32m----> 7\u001b[0;31m avg_train_loss = train_losses = train(\n\u001b[0m\u001b[1;32m      8\u001b[0m     \u001b[0mmodel\u001b[0m\u001b[0;34m=\u001b[0m\u001b[0mCNNModel\u001b[0m\u001b[0;34m,\u001b[0m\u001b[0;34m\u001b[0m\u001b[0;34m\u001b[0m\u001b[0m\n\u001b[1;32m      9\u001b[0m     \u001b[0mcrit\u001b[0m\u001b[0;34m=\u001b[0m\u001b[0mcriterion\u001b[0m\u001b[0;34m,\u001b[0m\u001b[0;34m\u001b[0m\u001b[0;34m\u001b[0m\u001b[0m\n",
      "\u001b[0;32m<ipython-input-8-6dff8394fbd0>\u001b[0m in \u001b[0;36mtrain\u001b[0;34m(model, crit, opt, epochs, train_loader)\u001b[0m\n\u001b[1;32m     24\u001b[0m \u001b[0;34m\u001b[0m\u001b[0m\n\u001b[1;32m     25\u001b[0m             \u001b[0;31m#✔️ TODO: make the necessary update for the loss and optimizer\u001b[0m\u001b[0;34m\u001b[0m\u001b[0;34m\u001b[0m\u001b[0m\n\u001b[0;32m---> 26\u001b[0;31m             \u001b[0mloss\u001b[0m\u001b[0;34m.\u001b[0m\u001b[0mbackward\u001b[0m\u001b[0;34m(\u001b[0m\u001b[0;34m)\u001b[0m \u001b[0;31m# the model learns by backpropagating by calculating gradients\u001b[0m\u001b[0;34m\u001b[0m\u001b[0;34m\u001b[0m\u001b[0m\n\u001b[0m\u001b[1;32m     27\u001b[0m             \u001b[0mopt\u001b[0m\u001b[0;34m.\u001b[0m\u001b[0mstep\u001b[0m\u001b[0;34m(\u001b[0m\u001b[0;34m)\u001b[0m \u001b[0;31m# And optimizes its weights here and update parameter after every iteration (gradient descent step)\u001b[0m\u001b[0;34m\u001b[0m\u001b[0;34m\u001b[0m\u001b[0m\n\u001b[1;32m     28\u001b[0m             \u001b[0mlosses\u001b[0m \u001b[0;34m=\u001b[0m\u001b[0;34m+\u001b[0m \u001b[0mloss\u001b[0m\u001b[0;34m.\u001b[0m\u001b[0mitem\u001b[0m\u001b[0;34m(\u001b[0m\u001b[0;34m)\u001b[0m\u001b[0;34m\u001b[0m\u001b[0;34m\u001b[0m\u001b[0m\n",
      "\u001b[0;32m/usr/local/lib/python3.10/dist-packages/torch/_tensor.py\u001b[0m in \u001b[0;36mbackward\u001b[0;34m(self, gradient, retain_graph, create_graph, inputs)\u001b[0m\n\u001b[1;32m    490\u001b[0m                 \u001b[0minputs\u001b[0m\u001b[0;34m=\u001b[0m\u001b[0minputs\u001b[0m\u001b[0;34m,\u001b[0m\u001b[0;34m\u001b[0m\u001b[0;34m\u001b[0m\u001b[0m\n\u001b[1;32m    491\u001b[0m             )\n\u001b[0;32m--> 492\u001b[0;31m         torch.autograd.backward(\n\u001b[0m\u001b[1;32m    493\u001b[0m             \u001b[0mself\u001b[0m\u001b[0;34m,\u001b[0m \u001b[0mgradient\u001b[0m\u001b[0;34m,\u001b[0m \u001b[0mretain_graph\u001b[0m\u001b[0;34m,\u001b[0m \u001b[0mcreate_graph\u001b[0m\u001b[0;34m,\u001b[0m \u001b[0minputs\u001b[0m\u001b[0;34m=\u001b[0m\u001b[0minputs\u001b[0m\u001b[0;34m\u001b[0m\u001b[0;34m\u001b[0m\u001b[0m\n\u001b[1;32m    494\u001b[0m         )\n",
      "\u001b[0;32m/usr/local/lib/python3.10/dist-packages/torch/autograd/__init__.py\u001b[0m in \u001b[0;36mbackward\u001b[0;34m(tensors, grad_tensors, retain_graph, create_graph, grad_variables, inputs)\u001b[0m\n\u001b[1;32m    249\u001b[0m     \u001b[0;31m# some Python versions print out the first line of a multi-line function\u001b[0m\u001b[0;34m\u001b[0m\u001b[0;34m\u001b[0m\u001b[0m\n\u001b[1;32m    250\u001b[0m     \u001b[0;31m# calls in the traceback and some print out the last line\u001b[0m\u001b[0;34m\u001b[0m\u001b[0;34m\u001b[0m\u001b[0m\n\u001b[0;32m--> 251\u001b[0;31m     Variable._execution_engine.run_backward(  # Calls into the C++ engine to run the backward pass\n\u001b[0m\u001b[1;32m    252\u001b[0m         \u001b[0mtensors\u001b[0m\u001b[0;34m,\u001b[0m\u001b[0;34m\u001b[0m\u001b[0;34m\u001b[0m\u001b[0m\n\u001b[1;32m    253\u001b[0m         \u001b[0mgrad_tensors_\u001b[0m\u001b[0;34m,\u001b[0m\u001b[0;34m\u001b[0m\u001b[0;34m\u001b[0m\u001b[0m\n",
      "\u001b[0;31mKeyboardInterrupt\u001b[0m: "
     ]
    }
   ],
   "source": [
    "CNNModel = MyCNNModel()\n",
    "#✔️ TODO: choose your criterion and optimizer the best suited for the task at hand\n",
    "criterion = nn.CrossEntropyLoss()\n",
    "optimizer = torch.optim.Adam(CNNModel.parameters(), lr=LR)\n",
    "\n",
    "# ###\n",
    "avg_train_loss = train_losses = train(\n",
    "    model=CNNModel,\n",
    "    crit=criterion,\n",
    "    opt=optimizer,\n",
    "    epochs=EPOCHS,\n",
    "    train_loader=train_loader\n",
    ")\n",
    "avg_test_loss, total_preds, total_labels = test(\n",
    "    model=CNNModel,\n",
    "    crit=criterion,\n",
    "    test_loader=test_loader\n",
    ")"
   ]
  },
  {
   "cell_type": "code",
   "execution_count": null,
   "metadata": {
    "colab": {
     "base_uri": "https://localhost:8080/",
     "height": 407
    },
    "id": "k-2-YKW7-nzC",
    "outputId": "b8cbb1f5-634f-48f5-9aed-d7253e776680"
   },
   "outputs": [
    {
     "name": "stdout",
     "output_type": "stream",
     "text": [
      "# ### TRAIN\n"
     ]
    },
    {
     "ename": "ValueError",
     "evalue": "ignored",
     "output_type": "error",
     "traceback": [
      "\u001b[0;31m---------------------------------------------------------------------------\u001b[0m",
      "\u001b[0;31mValueError\u001b[0m                                Traceback (most recent call last)",
      "\u001b[0;32m<ipython-input-22-2dcf97181f33>\u001b[0m in \u001b[0;36m<cell line: 7>\u001b[0;34m()\u001b[0m\n\u001b[1;32m      5\u001b[0m \u001b[0;34m\u001b[0m\u001b[0m\n\u001b[1;32m      6\u001b[0m \u001b[0;31m# ###\u001b[0m\u001b[0;34m\u001b[0m\u001b[0;34m\u001b[0m\u001b[0m\n\u001b[0;32m----> 7\u001b[0;31m avg_train_loss = train(\n\u001b[0m\u001b[1;32m      8\u001b[0m     \u001b[0mmodel\u001b[0m\u001b[0;34m=\u001b[0m\u001b[0mCNNModel\u001b[0m\u001b[0;34m,\u001b[0m\u001b[0;34m\u001b[0m\u001b[0;34m\u001b[0m\u001b[0m\n\u001b[1;32m      9\u001b[0m     \u001b[0mcrit\u001b[0m\u001b[0;34m=\u001b[0m\u001b[0mcriterion\u001b[0m\u001b[0;34m,\u001b[0m\u001b[0;34m\u001b[0m\u001b[0;34m\u001b[0m\u001b[0m\n",
      "\u001b[0;32m<ipython-input-12-35788f60dafa>\u001b[0m in \u001b[0;36mtrain\u001b[0;34m(model, crit, opt, epochs, train_loader)\u001b[0m\n\u001b[1;32m     21\u001b[0m             \u001b[0mopt\u001b[0m\u001b[0;34m.\u001b[0m\u001b[0mzero_grad\u001b[0m\u001b[0;34m(\u001b[0m\u001b[0;34m)\u001b[0m\u001b[0;34m\u001b[0m\u001b[0;34m\u001b[0m\u001b[0m\n\u001b[1;32m     22\u001b[0m             \u001b[0my_hat\u001b[0m \u001b[0;34m=\u001b[0m \u001b[0mmodel\u001b[0m\u001b[0;34m(\u001b[0m\u001b[0mimages\u001b[0m\u001b[0;34m.\u001b[0m\u001b[0mto\u001b[0m\u001b[0;34m(\u001b[0m\u001b[0mDEVICE\u001b[0m\u001b[0;34m)\u001b[0m\u001b[0;34m)\u001b[0m\u001b[0;34m\u001b[0m\u001b[0;34m\u001b[0m\u001b[0m\n\u001b[0;32m---> 23\u001b[0;31m             \u001b[0mloss\u001b[0m \u001b[0;34m=\u001b[0m \u001b[0mcrit\u001b[0m\u001b[0;34m(\u001b[0m\u001b[0my_hat\u001b[0m\u001b[0;34m,\u001b[0m \u001b[0mlabels\u001b[0m\u001b[0;34m.\u001b[0m\u001b[0mto\u001b[0m\u001b[0;34m(\u001b[0m\u001b[0mDEVICE\u001b[0m\u001b[0;34m)\u001b[0m\u001b[0;34m)\u001b[0m\u001b[0;34m\u001b[0m\u001b[0;34m\u001b[0m\u001b[0m\n\u001b[0m\u001b[1;32m     24\u001b[0m \u001b[0;34m\u001b[0m\u001b[0m\n\u001b[1;32m     25\u001b[0m             \u001b[0;31m#✔️ TODO: make the necessary update for the loss and optimizer\u001b[0m\u001b[0;34m\u001b[0m\u001b[0;34m\u001b[0m\u001b[0m\n",
      "\u001b[0;32m/usr/local/lib/python3.10/dist-packages/torch/nn/modules/module.py\u001b[0m in \u001b[0;36m_wrapped_call_impl\u001b[0;34m(self, *args, **kwargs)\u001b[0m\n\u001b[1;32m   1516\u001b[0m             \u001b[0;32mreturn\u001b[0m \u001b[0mself\u001b[0m\u001b[0;34m.\u001b[0m\u001b[0m_compiled_call_impl\u001b[0m\u001b[0;34m(\u001b[0m\u001b[0;34m*\u001b[0m\u001b[0margs\u001b[0m\u001b[0;34m,\u001b[0m \u001b[0;34m**\u001b[0m\u001b[0mkwargs\u001b[0m\u001b[0;34m)\u001b[0m  \u001b[0;31m# type: ignore[misc]\u001b[0m\u001b[0;34m\u001b[0m\u001b[0;34m\u001b[0m\u001b[0m\n\u001b[1;32m   1517\u001b[0m         \u001b[0;32melse\u001b[0m\u001b[0;34m:\u001b[0m\u001b[0;34m\u001b[0m\u001b[0;34m\u001b[0m\u001b[0m\n\u001b[0;32m-> 1518\u001b[0;31m             \u001b[0;32mreturn\u001b[0m \u001b[0mself\u001b[0m\u001b[0;34m.\u001b[0m\u001b[0m_call_impl\u001b[0m\u001b[0;34m(\u001b[0m\u001b[0;34m*\u001b[0m\u001b[0margs\u001b[0m\u001b[0;34m,\u001b[0m \u001b[0;34m**\u001b[0m\u001b[0mkwargs\u001b[0m\u001b[0;34m)\u001b[0m\u001b[0;34m\u001b[0m\u001b[0;34m\u001b[0m\u001b[0m\n\u001b[0m\u001b[1;32m   1519\u001b[0m \u001b[0;34m\u001b[0m\u001b[0m\n\u001b[1;32m   1520\u001b[0m     \u001b[0;32mdef\u001b[0m \u001b[0m_call_impl\u001b[0m\u001b[0;34m(\u001b[0m\u001b[0mself\u001b[0m\u001b[0;34m,\u001b[0m \u001b[0;34m*\u001b[0m\u001b[0margs\u001b[0m\u001b[0;34m,\u001b[0m \u001b[0;34m**\u001b[0m\u001b[0mkwargs\u001b[0m\u001b[0;34m)\u001b[0m\u001b[0;34m:\u001b[0m\u001b[0;34m\u001b[0m\u001b[0;34m\u001b[0m\u001b[0m\n",
      "\u001b[0;32m/usr/local/lib/python3.10/dist-packages/torch/nn/modules/module.py\u001b[0m in \u001b[0;36m_call_impl\u001b[0;34m(self, *args, **kwargs)\u001b[0m\n\u001b[1;32m   1525\u001b[0m                 \u001b[0;32mor\u001b[0m \u001b[0m_global_backward_pre_hooks\u001b[0m \u001b[0;32mor\u001b[0m \u001b[0m_global_backward_hooks\u001b[0m\u001b[0;34m\u001b[0m\u001b[0;34m\u001b[0m\u001b[0m\n\u001b[1;32m   1526\u001b[0m                 or _global_forward_hooks or _global_forward_pre_hooks):\n\u001b[0;32m-> 1527\u001b[0;31m             \u001b[0;32mreturn\u001b[0m \u001b[0mforward_call\u001b[0m\u001b[0;34m(\u001b[0m\u001b[0;34m*\u001b[0m\u001b[0margs\u001b[0m\u001b[0;34m,\u001b[0m \u001b[0;34m**\u001b[0m\u001b[0mkwargs\u001b[0m\u001b[0;34m)\u001b[0m\u001b[0;34m\u001b[0m\u001b[0;34m\u001b[0m\u001b[0m\n\u001b[0m\u001b[1;32m   1528\u001b[0m \u001b[0;34m\u001b[0m\u001b[0m\n\u001b[1;32m   1529\u001b[0m         \u001b[0;32mtry\u001b[0m\u001b[0;34m:\u001b[0m\u001b[0;34m\u001b[0m\u001b[0;34m\u001b[0m\u001b[0m\n",
      "\u001b[0;32m/usr/local/lib/python3.10/dist-packages/torch/nn/modules/loss.py\u001b[0m in \u001b[0;36mforward\u001b[0;34m(self, input, target)\u001b[0m\n\u001b[1;32m    214\u001b[0m \u001b[0;34m\u001b[0m\u001b[0m\n\u001b[1;32m    215\u001b[0m     \u001b[0;32mdef\u001b[0m \u001b[0mforward\u001b[0m\u001b[0;34m(\u001b[0m\u001b[0mself\u001b[0m\u001b[0;34m,\u001b[0m \u001b[0minput\u001b[0m\u001b[0;34m:\u001b[0m \u001b[0mTensor\u001b[0m\u001b[0;34m,\u001b[0m \u001b[0mtarget\u001b[0m\u001b[0;34m:\u001b[0m \u001b[0mTensor\u001b[0m\u001b[0;34m)\u001b[0m \u001b[0;34m->\u001b[0m \u001b[0mTensor\u001b[0m\u001b[0;34m:\u001b[0m\u001b[0;34m\u001b[0m\u001b[0;34m\u001b[0m\u001b[0m\n\u001b[0;32m--> 216\u001b[0;31m         \u001b[0;32mreturn\u001b[0m \u001b[0mF\u001b[0m\u001b[0;34m.\u001b[0m\u001b[0mnll_loss\u001b[0m\u001b[0;34m(\u001b[0m\u001b[0minput\u001b[0m\u001b[0;34m,\u001b[0m \u001b[0mtarget\u001b[0m\u001b[0;34m,\u001b[0m \u001b[0mweight\u001b[0m\u001b[0;34m=\u001b[0m\u001b[0mself\u001b[0m\u001b[0;34m.\u001b[0m\u001b[0mweight\u001b[0m\u001b[0;34m,\u001b[0m \u001b[0mignore_index\u001b[0m\u001b[0;34m=\u001b[0m\u001b[0mself\u001b[0m\u001b[0;34m.\u001b[0m\u001b[0mignore_index\u001b[0m\u001b[0;34m,\u001b[0m \u001b[0mreduction\u001b[0m\u001b[0;34m=\u001b[0m\u001b[0mself\u001b[0m\u001b[0;34m.\u001b[0m\u001b[0mreduction\u001b[0m\u001b[0;34m)\u001b[0m\u001b[0;34m\u001b[0m\u001b[0;34m\u001b[0m\u001b[0m\n\u001b[0m\u001b[1;32m    217\u001b[0m \u001b[0;34m\u001b[0m\u001b[0m\n\u001b[1;32m    218\u001b[0m \u001b[0;34m\u001b[0m\u001b[0m\n",
      "\u001b[0;32m/usr/local/lib/python3.10/dist-packages/torch/nn/functional.py\u001b[0m in \u001b[0;36mnll_loss\u001b[0;34m(input, target, weight, size_average, ignore_index, reduce, reduction)\u001b[0m\n\u001b[1;32m   2727\u001b[0m     \u001b[0;32mif\u001b[0m \u001b[0msize_average\u001b[0m \u001b[0;32mis\u001b[0m \u001b[0;32mnot\u001b[0m \u001b[0;32mNone\u001b[0m \u001b[0;32mor\u001b[0m \u001b[0mreduce\u001b[0m \u001b[0;32mis\u001b[0m \u001b[0;32mnot\u001b[0m \u001b[0;32mNone\u001b[0m\u001b[0;34m:\u001b[0m\u001b[0;34m\u001b[0m\u001b[0;34m\u001b[0m\u001b[0m\n\u001b[1;32m   2728\u001b[0m         \u001b[0mreduction\u001b[0m \u001b[0;34m=\u001b[0m \u001b[0m_Reduction\u001b[0m\u001b[0;34m.\u001b[0m\u001b[0mlegacy_get_string\u001b[0m\u001b[0;34m(\u001b[0m\u001b[0msize_average\u001b[0m\u001b[0;34m,\u001b[0m \u001b[0mreduce\u001b[0m\u001b[0;34m)\u001b[0m\u001b[0;34m\u001b[0m\u001b[0;34m\u001b[0m\u001b[0m\n\u001b[0;32m-> 2729\u001b[0;31m     \u001b[0;32mreturn\u001b[0m \u001b[0mtorch\u001b[0m\u001b[0;34m.\u001b[0m\u001b[0m_C\u001b[0m\u001b[0;34m.\u001b[0m\u001b[0m_nn\u001b[0m\u001b[0;34m.\u001b[0m\u001b[0mnll_loss_nd\u001b[0m\u001b[0;34m(\u001b[0m\u001b[0minput\u001b[0m\u001b[0;34m,\u001b[0m \u001b[0mtarget\u001b[0m\u001b[0;34m,\u001b[0m \u001b[0mweight\u001b[0m\u001b[0;34m,\u001b[0m \u001b[0m_Reduction\u001b[0m\u001b[0;34m.\u001b[0m\u001b[0mget_enum\u001b[0m\u001b[0;34m(\u001b[0m\u001b[0mreduction\u001b[0m\u001b[0;34m)\u001b[0m\u001b[0;34m,\u001b[0m \u001b[0mignore_index\u001b[0m\u001b[0;34m)\u001b[0m\u001b[0;34m\u001b[0m\u001b[0;34m\u001b[0m\u001b[0m\n\u001b[0m\u001b[1;32m   2730\u001b[0m \u001b[0;34m\u001b[0m\u001b[0m\n\u001b[1;32m   2731\u001b[0m \u001b[0;34m\u001b[0m\u001b[0m\n",
      "\u001b[0;31mValueError\u001b[0m: Expected input batch_size (196) to match target batch_size (256)."
     ]
    }
   ],
   "source": [
    "CNNModel = ModifiedLeNet_5()\n",
    "#✔️ TODO: choose your criterion and optimizer the best suited for the task at hand\n",
    "criterion = nn.NLLLoss()\n",
    "optimizer = torch.optim.SGD(CNNModel.parameters(), lr=LR, momentum = 0.5)\n",
    "\n",
    "# ###\n",
    "avg_train_loss = train(\n",
    "    model=CNNModel,\n",
    "    crit=criterion,\n",
    "    opt=optimizer,\n",
    "    epochs=EPOCHS,\n",
    "    train_loader=train_loader\n",
    ")\n",
    "avg_test_loss, total_preds, total_labels = test(\n",
    "    model=CNNModel,\n",
    "    crit=criterion,\n",
    "    test_loader=test_loader\n",
    ")"
   ]
  },
  {
   "cell_type": "code",
   "execution_count": null,
   "metadata": {
    "colab": {
     "base_uri": "https://localhost:8080/",
     "height": 401
    },
    "id": "MQ1-TIpG_2yk",
    "outputId": "ea0584b5-8e14-4a37-85ae-a0e53c885aae"
   },
   "outputs": [
    {
     "name": "stdout",
     "output_type": "stream",
     "text": [
      "# ### TRAIN\n",
      "Epoch: [5/50] - train loss: 0.0006821899972063429\n"
     ]
    },
    {
     "ename": "KeyboardInterrupt",
     "evalue": "ignored",
     "output_type": "error",
     "traceback": [
      "\u001b[0;31m---------------------------------------------------------------------------\u001b[0m",
      "\u001b[0;31mKeyboardInterrupt\u001b[0m                         Traceback (most recent call last)",
      "\u001b[0;32m<ipython-input-35-4c7b6e9e88e5>\u001b[0m in \u001b[0;36m<cell line: 7>\u001b[0;34m()\u001b[0m\n\u001b[1;32m      5\u001b[0m \u001b[0;34m\u001b[0m\u001b[0m\n\u001b[1;32m      6\u001b[0m \u001b[0;31m# ###\u001b[0m\u001b[0;34m\u001b[0m\u001b[0;34m\u001b[0m\u001b[0m\n\u001b[0;32m----> 7\u001b[0;31m avg_train_loss = train(\n\u001b[0m\u001b[1;32m      8\u001b[0m     \u001b[0mmodel\u001b[0m\u001b[0;34m=\u001b[0m\u001b[0mCNNModel\u001b[0m\u001b[0;34m,\u001b[0m\u001b[0;34m\u001b[0m\u001b[0;34m\u001b[0m\u001b[0m\n\u001b[1;32m      9\u001b[0m     \u001b[0mcrit\u001b[0m\u001b[0;34m=\u001b[0m\u001b[0mcriterion\u001b[0m\u001b[0;34m,\u001b[0m\u001b[0;34m\u001b[0m\u001b[0;34m\u001b[0m\u001b[0m\n",
      "\u001b[0;32m<ipython-input-12-35788f60dafa>\u001b[0m in \u001b[0;36mtrain\u001b[0;34m(model, crit, opt, epochs, train_loader)\u001b[0m\n\u001b[1;32m     26\u001b[0m             \u001b[0mloss\u001b[0m\u001b[0;34m.\u001b[0m\u001b[0mbackward\u001b[0m\u001b[0;34m(\u001b[0m\u001b[0;34m)\u001b[0m \u001b[0;31m# the model learns by backpropagating\u001b[0m\u001b[0;34m\u001b[0m\u001b[0;34m\u001b[0m\u001b[0m\n\u001b[1;32m     27\u001b[0m             \u001b[0mopt\u001b[0m\u001b[0;34m.\u001b[0m\u001b[0mstep\u001b[0m\u001b[0;34m(\u001b[0m\u001b[0;34m)\u001b[0m \u001b[0;31m# And optimizes its weights here and update parameter after every iteration\u001b[0m\u001b[0;34m\u001b[0m\u001b[0;34m\u001b[0m\u001b[0m\n\u001b[0;32m---> 28\u001b[0;31m             \u001b[0mlosses\u001b[0m \u001b[0;34m=\u001b[0m\u001b[0;34m+\u001b[0m \u001b[0mloss\u001b[0m\u001b[0;34m.\u001b[0m\u001b[0mitem\u001b[0m\u001b[0;34m(\u001b[0m\u001b[0;34m)\u001b[0m\u001b[0;34m\u001b[0m\u001b[0;34m\u001b[0m\u001b[0m\n\u001b[0m\u001b[1;32m     29\u001b[0m \u001b[0;34m\u001b[0m\u001b[0m\n\u001b[1;32m     30\u001b[0m         \u001b[0mtrain_loss\u001b[0m \u001b[0;34m=\u001b[0m \u001b[0mlosses\u001b[0m \u001b[0;34m/\u001b[0m \u001b[0mlen\u001b[0m\u001b[0;34m(\u001b[0m\u001b[0mtrain_loader\u001b[0m\u001b[0;34m)\u001b[0m\u001b[0;34m\u001b[0m\u001b[0;34m\u001b[0m\u001b[0m\n",
      "\u001b[0;31mKeyboardInterrupt\u001b[0m: "
     ]
    }
   ],
   "source": [
    "CNNModel = EnsNetBaseCNN()\n",
    "#✔️ TODO: choose your criterion and optimizer the best suited for the task at hand\n",
    "criterion = nn.NLLLoss()\n",
    "optimizer = torch.optim.SGD(CNNModel.parameters(), lr=LR, momentum = 0.5)\n",
    "\n",
    "# ###\n",
    "avg_train_loss = train(\n",
    "    model=CNNModel,\n",
    "    crit=criterion,\n",
    "    opt=optimizer,\n",
    "    epochs=EPOCHS,\n",
    "    train_loader=train_loader\n",
    ")\n",
    "avg_test_loss, total_preds, total_labels = test(\n",
    "    model=CNNModel,\n",
    "    crit=criterion,\n",
    "    test_loader=test_loader\n",
    ")"
   ]
  },
  {
   "cell_type": "markdown",
   "metadata": {
    "id": "DqQG7ByS211V"
   },
   "source": [
    "Optional TODO:\n",
    "Create a visualization to understand the performance of the model(s). Use matplotlib to plot the images."
   ]
  },
  {
   "cell_type": "code",
   "execution_count": null,
   "metadata": {
    "colab": {
     "base_uri": "https://localhost:8080/",
     "height": 718
    },
    "id": "w3cNICDN_Un7",
    "outputId": "7ea20f93-8cfe-4042-b474-1264d9c7816d"
   },
   "outputs": [
    {
     "data": {
      "image/png": "[encoded data removed]",
      "text/plain": [
       "<Figure size 1000x800 with 2 Axes>"
      ]
     },
     "metadata": {},
     "output_type": "display_data"
    }
   ],
   "source": [
    "from sklearn.metrics import confusion_matrix\n",
    "import seaborn as sns\n",
    "\n",
    "conf_matrix = confusion_matrix(FCModel_LogSoftmax_NLL_SGD_Dropout_total_preds, FCModel_LogSoftmax_NLL_SGD_Dropout_total_labels)\n",
    "\n",
    "plt.figure(figsize=(10, 8))\n",
    "sns.heatmap(conf_matrix, annot=True, fmt='g', cmap='Blues')\n",
    "plt.xlabel('Predicted Labels for FCModel_LogSoftmax_NLL_SGD_Dropout')\n",
    "plt.ylabel('True Labels')\n",
    "plt.title('Confusion Matrix')\n",
    "plt.show()"
   ]
  },
  {
   "cell_type": "markdown",
   "metadata": {
    "id": "UsXSao2I5x-y"
   },
   "source": [
    "# Finish!\n",
    "\n",
    "Run this cell ONLY when you are done with your attempt!"
   ]
  },
  {
   "cell_type": "code",
   "execution_count": null,
   "metadata": {
    "id": "W0PdeNOM4Flo"
   },
   "outputs": [],
   "source": [
    "%pip install cowsay --quiet\n",
    "!cowsay -t {dec('d2VsbGRvbmUh').decode(\"utf-8\")}"
   ]
  }
 ],
 "metadata": {
  "accelerator": "GPU",
  "colab": {
   "provenance": []
  },
  "gpuClass": "standard",
  "kernelspec": {
   "display_name": "Python 3 (ipykernel)",
   "language": "python",
   "name": "python3"
  },
  "language_info": {
   "codemirror_mode": {
    "name": "ipython",
    "version": 3
   },
   "file_extension": ".py",
   "mimetype": "text/x-python",
   "name": "python",
   "nbconvert_exporter": "python",
   "pygments_lexer": "ipython3",
   "version": "3.11.2"
  }
 },
 "nbformat": 4,
 "nbformat_minor": 1
}
